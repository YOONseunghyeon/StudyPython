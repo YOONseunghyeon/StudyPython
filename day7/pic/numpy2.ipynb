{
 "cells": [
  {
   "cell_type": "markdown",
   "metadata": {},
   "source": [
    "### 20220124 list, array, numpy\n",
    "- glob와 os.listdir 로 폴더내의 자료를 리스트화 할수있다.\n",
    "- numpy모듈을 이용하요 배열간 연산이 가능하다. (개념만 알아도 됨)\n",
    "- PIL 모듈을 이용하여 이미지 관련 연산을 할 수 있다. (배열로 안바꿔도 됨. \n",
    "  배열자료라는 것만 인지하고 PIL모듈 기능중 필요한 기능만 사용할수 있으면됨 )\n",
    "- 리스트는 빈리스트 만들고 append하는 과정을 압축하여 표현할수 있다."
   ]
  },
  {
   "cell_type": "code",
   "execution_count": null,
   "metadata": {},
   "outputs": [],
   "source": [
    "import numpy as np\n",
    "x= np.zero((3,4))\n",
    "x[0][0]=0 ; x[0][1]=0 ; x[0][2]=0 ; x[0][3]=0\n",
    "x[1][0]=0 ; x[1][1]=0 ; x[1][2]=0 ; x[1][3]=0\n",
    "x[2][0]=0 ; x[2][1]=0 ; x[2][2]=0 ; x[2][3]=0\n",
    "\n",
    "for i in range(3):\n",
    "  for i in range(4):\n",
    "     x[i][2:]=0\n"
   ]
  },
  {
   "cell_type": "code",
   "execution_count": 1,
   "metadata": {},
   "outputs": [
    {
     "data": {
      "text/plain": [
       "[113, 40]"
      ]
     },
     "execution_count": 1,
     "metadata": {},
     "output_type": "execute_result"
    }
   ],
   "source": [
    "# 인공신경망 (인공지능)은 x값w값의 합산이 y값과 최대한 차이가 나지않게하는 w값 찾기\n",
    "import numpy as np\n",
    "# [ 1번 사람 [x1,x2,x3],\n",
    "#    2번 사람 [x1,x2,x3]]         x1을 몸무게,  x2를 나이, x3를 수명량이라고 가정\n",
    "# \n",
    "x =np.array ([[22,3,4],[2,2,3]]) \n",
    "y =np.array ([100,150])                     # 1번사람의 혈압이 100, 2법ㄴ사라므이 혈압이 150\n",
    "w = ([3,5,8])                        # x1의w값 3    /  x2의 w 값 5,    /  x3의 w값 8\n",
    "\n",
    "y1 = x*w  #( [22*3,3*5, 4*8], [2*3,2*5,3*8])\n",
    "\n",
    "y_hat = [i.sum()for i in y1]\n",
    "y_hat"
   ]
  }
 ],
 "metadata": {
  "interpreter": {
   "hash": "e5bc2cf9d9a3d85fb4b9cf5c2acdd222f933ac2e5b2df75a3f82eb3e684a5541"
  },
  "kernelspec": {
   "display_name": "Python 3.10.1 64-bit",
   "language": "python",
   "name": "python3"
  },
  "language_info": {
   "codemirror_mode": {
    "name": "ipython",
    "version": 3
   },
   "file_extension": ".py",
   "mimetype": "text/x-python",
   "name": "python",
   "nbconvert_exporter": "python",
   "pygments_lexer": "ipython3",
   "version": "3.10.1"
  },
  "orig_nbformat": 4
 },
 "nbformat": 4,
 "nbformat_minor": 2
}
